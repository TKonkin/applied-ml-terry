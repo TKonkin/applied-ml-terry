{
 "cells": [
  {
   "cell_type": "markdown",
   "id": "9eed737b",
   "metadata": {},
   "source": [
    "# Lab 4 - Predicting a Continuous Target with Regression (Titanic)"
   ]
  },
  {
   "cell_type": "markdown",
   "id": "5eb7b0c9",
   "metadata": {},
   "source": [
    "Name: Terry Konkin  \n",
    "Date: April 4, 2025  \n",
    "Objective: To analyze the Titanic datset."
   ]
  },
  {
   "cell_type": "markdown",
   "id": "0574ca9f",
   "metadata": {},
   "source": [
    "Imports"
   ]
  },
  {
   "cell_type": "code",
   "execution_count": 1,
   "id": "8e21a53c",
   "metadata": {},
   "outputs": [],
   "source": [
    "import seaborn as sns\n",
    "import pandas as pd\n",
    "import numpy as np\n",
    "import matplotlib.pyplot as plt\n",
    "\n",
    "from sklearn.model_selection import train_test_split\n",
    "from sklearn.linear_model import LinearRegression, Ridge, ElasticNet\n",
    "from sklearn.preprocessing import PolynomialFeatures\n",
    "from sklearn.metrics import mean_squared_error, mean_absolute_error, r2_score\n"
   ]
  },
  {
   "cell_type": "markdown",
   "id": "2d1606cb",
   "metadata": {},
   "source": [
    "# Section 1. Import and Inspect the Data"
   ]
  },
  {
   "cell_type": "markdown",
   "id": "20fab98f",
   "metadata": {},
   "source": [
    "Load the Titanic dataset and confirm it's structured correctly.  \n",
    "  \n",
    "Important: This code requires importing seaborn as sns and pandas.  Our variable titanic holds a pandas DataFrame object.  Know what imports are required for each bit of code."
   ]
  },
  {
   "cell_type": "code",
   "execution_count": 2,
   "id": "523e6f22",
   "metadata": {},
   "outputs": [
    {
     "data": {
      "text/html": [
       "<div>\n",
       "<style scoped>\n",
       "    .dataframe tbody tr th:only-of-type {\n",
       "        vertical-align: middle;\n",
       "    }\n",
       "\n",
       "    .dataframe tbody tr th {\n",
       "        vertical-align: top;\n",
       "    }\n",
       "\n",
       "    .dataframe thead th {\n",
       "        text-align: right;\n",
       "    }\n",
       "</style>\n",
       "<table border=\"1\" class=\"dataframe\">\n",
       "  <thead>\n",
       "    <tr style=\"text-align: right;\">\n",
       "      <th></th>\n",
       "      <th>survived</th>\n",
       "      <th>pclass</th>\n",
       "      <th>sex</th>\n",
       "      <th>age</th>\n",
       "      <th>sibsp</th>\n",
       "      <th>parch</th>\n",
       "      <th>fare</th>\n",
       "      <th>embarked</th>\n",
       "      <th>class</th>\n",
       "      <th>who</th>\n",
       "      <th>adult_male</th>\n",
       "      <th>deck</th>\n",
       "      <th>embark_town</th>\n",
       "      <th>alive</th>\n",
       "      <th>alone</th>\n",
       "    </tr>\n",
       "  </thead>\n",
       "  <tbody>\n",
       "    <tr>\n",
       "      <th>0</th>\n",
       "      <td>0</td>\n",
       "      <td>3</td>\n",
       "      <td>male</td>\n",
       "      <td>22.0</td>\n",
       "      <td>1</td>\n",
       "      <td>0</td>\n",
       "      <td>7.2500</td>\n",
       "      <td>S</td>\n",
       "      <td>Third</td>\n",
       "      <td>man</td>\n",
       "      <td>True</td>\n",
       "      <td>NaN</td>\n",
       "      <td>Southampton</td>\n",
       "      <td>no</td>\n",
       "      <td>False</td>\n",
       "    </tr>\n",
       "    <tr>\n",
       "      <th>1</th>\n",
       "      <td>1</td>\n",
       "      <td>1</td>\n",
       "      <td>female</td>\n",
       "      <td>38.0</td>\n",
       "      <td>1</td>\n",
       "      <td>0</td>\n",
       "      <td>71.2833</td>\n",
       "      <td>C</td>\n",
       "      <td>First</td>\n",
       "      <td>woman</td>\n",
       "      <td>False</td>\n",
       "      <td>C</td>\n",
       "      <td>Cherbourg</td>\n",
       "      <td>yes</td>\n",
       "      <td>False</td>\n",
       "    </tr>\n",
       "    <tr>\n",
       "      <th>2</th>\n",
       "      <td>1</td>\n",
       "      <td>3</td>\n",
       "      <td>female</td>\n",
       "      <td>26.0</td>\n",
       "      <td>0</td>\n",
       "      <td>0</td>\n",
       "      <td>7.9250</td>\n",
       "      <td>S</td>\n",
       "      <td>Third</td>\n",
       "      <td>woman</td>\n",
       "      <td>False</td>\n",
       "      <td>NaN</td>\n",
       "      <td>Southampton</td>\n",
       "      <td>yes</td>\n",
       "      <td>True</td>\n",
       "    </tr>\n",
       "    <tr>\n",
       "      <th>3</th>\n",
       "      <td>1</td>\n",
       "      <td>1</td>\n",
       "      <td>female</td>\n",
       "      <td>35.0</td>\n",
       "      <td>1</td>\n",
       "      <td>0</td>\n",
       "      <td>53.1000</td>\n",
       "      <td>S</td>\n",
       "      <td>First</td>\n",
       "      <td>woman</td>\n",
       "      <td>False</td>\n",
       "      <td>C</td>\n",
       "      <td>Southampton</td>\n",
       "      <td>yes</td>\n",
       "      <td>False</td>\n",
       "    </tr>\n",
       "    <tr>\n",
       "      <th>4</th>\n",
       "      <td>0</td>\n",
       "      <td>3</td>\n",
       "      <td>male</td>\n",
       "      <td>35.0</td>\n",
       "      <td>0</td>\n",
       "      <td>0</td>\n",
       "      <td>8.0500</td>\n",
       "      <td>S</td>\n",
       "      <td>Third</td>\n",
       "      <td>man</td>\n",
       "      <td>True</td>\n",
       "      <td>NaN</td>\n",
       "      <td>Southampton</td>\n",
       "      <td>no</td>\n",
       "      <td>True</td>\n",
       "    </tr>\n",
       "  </tbody>\n",
       "</table>\n",
       "</div>"
      ],
      "text/plain": [
       "   survived  pclass     sex   age  sibsp  parch     fare embarked  class  \\\n",
       "0         0       3    male  22.0      1      0   7.2500        S  Third   \n",
       "1         1       1  female  38.0      1      0  71.2833        C  First   \n",
       "2         1       3  female  26.0      0      0   7.9250        S  Third   \n",
       "3         1       1  female  35.0      1      0  53.1000        S  First   \n",
       "4         0       3    male  35.0      0      0   8.0500        S  Third   \n",
       "\n",
       "     who  adult_male deck  embark_town alive  alone  \n",
       "0    man        True  NaN  Southampton    no  False  \n",
       "1  woman       False    C    Cherbourg   yes  False  \n",
       "2  woman       False  NaN  Southampton   yes   True  \n",
       "3  woman       False    C  Southampton   yes  False  \n",
       "4    man        True  NaN  Southampton    no   True  "
      ]
     },
     "execution_count": 2,
     "metadata": {},
     "output_type": "execute_result"
    }
   ],
   "source": [
    "# Load Titanic dataset from seaborn and verify\n",
    "titanic = sns.load_dataset(\"titanic\")\n",
    "titanic.head()\n"
   ]
  },
  {
   "cell_type": "markdown",
   "id": "071526f2",
   "metadata": {},
   "source": [
    "### Section 2. Data Exploration and Preparation"
   ]
  },
  {
   "cell_type": "markdown",
   "id": "8e8992a5",
   "metadata": {},
   "source": [
    "Prepare the Titanic data for regression modelling.  See the previous work.  \n",
    "  \n",
    "Impute missing values for age using median."
   ]
  },
  {
   "cell_type": "code",
   "execution_count": 3,
   "id": "3764e8e0",
   "metadata": {},
   "outputs": [],
   "source": [
    "titanic['age'].fillna(titanic['age'].median(), inplace=True)"
   ]
  },
  {
   "cell_type": "markdown",
   "id": "4c9a15dc",
   "metadata": {},
   "source": [
    "Drop rows with missing fare (or impute if preferred)"
   ]
  },
  {
   "cell_type": "code",
   "execution_count": 4,
   "id": "49a096b0",
   "metadata": {},
   "outputs": [],
   "source": [
    "titanic = titanic.dropna(subset=['fare'])"
   ]
  },
  {
   "cell_type": "markdown",
   "id": "8805f966",
   "metadata": {},
   "source": [
    "Create numeric variables (family_size from sibsp + parch + 1)"
   ]
  },
  {
   "cell_type": "code",
   "execution_count": 5,
   "id": "9f5e0773",
   "metadata": {},
   "outputs": [],
   "source": [
    "titanic['family_size'] = titanic['sibsp'] + titanic['parch'] + 1"
   ]
  },
  {
   "cell_type": "markdown",
   "id": "bdf9f280",
   "metadata": {},
   "source": [
    "### Section 3. Feature Selection and Justification"
   ]
  },
  {
   "cell_type": "markdown",
   "id": "e447d9a6",
   "metadata": {},
   "source": [
    "Define multiple combinations of features to use as inputs to predict fare.  \n",
    "\n",
    "Use unique names (X1, y1, X2, y2, etc.) so results are visible and can be compared at the same time.  \n",
    "  \n",
    "Remember the inputs, usually X, are a 2D array. The target is a 1D array. "
   ]
  },
  {
   "cell_type": "markdown",
   "id": "f3582ffc",
   "metadata": {},
   "source": [
    "Case 1. age only"
   ]
  },
  {
   "cell_type": "code",
   "execution_count": 6,
   "id": "243e737b",
   "metadata": {},
   "outputs": [],
   "source": [
    "# Case 1. age\n",
    "X1 = titanic[['age']]\n",
    "y1 = titanic['fare']\n"
   ]
  },
  {
   "cell_type": "markdown",
   "id": "46bc22d7",
   "metadata": {},
   "source": [
    "Case 2. family_size only"
   ]
  },
  {
   "cell_type": "code",
   "execution_count": 7,
   "id": "134552cc",
   "metadata": {},
   "outputs": [],
   "source": [
    "# Case 2. family_size\n",
    "X2 = titanic[['family_size']]\n",
    "y2 = titanic['fare']\n"
   ]
  },
  {
   "cell_type": "markdown",
   "id": "08062434",
   "metadata": {},
   "source": [
    "Case 3. age and family_size"
   ]
  },
  {
   "cell_type": "code",
   "execution_count": 8,
   "id": "a8455b01",
   "metadata": {},
   "outputs": [],
   "source": [
    "# Case 3. age, family_size\n",
    "X3 = titanic[['age', 'family_size']]\n",
    "y3 = titanic['fare']\n"
   ]
  },
  {
   "cell_type": "markdown",
   "id": "d6d19d04",
   "metadata": {},
   "source": [
    "Case 4. Your choice"
   ]
  },
  {
   "cell_type": "code",
   "execution_count": 9,
   "id": "cab0996d",
   "metadata": {},
   "outputs": [],
   "source": [
    "# choose sex and convert to numeric\n",
    "titanic['sex'] = titanic['sex'].map({'male': 0, 'female': 1})\n",
    "# Case 4. \n",
    "X4 = titanic[['sex']]\n",
    "y4 = titanic['fare']\n"
   ]
  },
  {
   "cell_type": "markdown",
   "id": "45bb2974",
   "metadata": {},
   "source": [
    "Reflection Questions - answer these in your notebook (in a Markdown cell):\n",
    "\n",
    "1. Why might these features affect a passenger’s fare:  \n",
    "   Age because children might be charged a lower fare.  \n",
    "   Family size because there may be a discounted fare for that scenario.\n",
    "\n",
    "2. List all available features:  \n",
    "   suvived, pclass, sex, age, sibsp, parch, fare, embarked, class, who, adult_male, deck, embark_town, alive, alone  \n",
    "   \n",
    "3. Which other features could improve predictions and why:  \n",
    "   Possibly embark_town, as certain cities may have a higher fare. \n",
    "   \n",
    "4. How many variables are in your Case 4:  \n",
    "   Two variables, X4 and y4.\n",
    "   \n",
    "5. Which variable(s) did you choose for Case 4 and why do you feel those could make good inputs:  \n",
    "   Chose sex and fare, as fare should not be affected by Sex."
   ]
  },
  {
   "cell_type": "markdown",
   "id": "1e6a97fe",
   "metadata": {},
   "source": [
    "### Section 4. Train a Regression Model (Linear Regression)"
   ]
  },
  {
   "cell_type": "markdown",
   "id": "66bac509",
   "metadata": {},
   "source": [
    "4.1 Split the Data"
   ]
  },
  {
   "cell_type": "code",
   "execution_count": 10,
   "id": "a41eea51",
   "metadata": {},
   "outputs": [],
   "source": [
    "X1_train, X1_test, y1_train, y1_test = train_test_split(X1, y1, test_size=0.2, random_state=123)\n",
    "\n",
    "X2_train, X2_test, y2_train, y2_test = train_test_split(X2, y2, test_size=0.2, random_state=123)\n",
    "\n",
    "X3_train, X3_test, y3_train, y3_test = train_test_split(X3, y3, test_size=0.2, random_state=123)\n",
    "\n",
    "X4_train, X4_test, y4_train, y4_test = train_test_split(X4, y4, test_size=0.2, random_state=123)\n"
   ]
  },
  {
   "cell_type": "markdown",
   "id": "6c0cf835",
   "metadata": {},
   "source": [
    "4.2 Train and Evaluate Linear Regression Models (all 4 cases)  \n",
    "  \n",
    "We'll use a more concise approach - create each model and immediately call the fit() method. "
   ]
  },
  {
   "cell_type": "code",
   "execution_count": 11,
   "id": "0697baba",
   "metadata": {},
   "outputs": [],
   "source": [
    "lr_model1 = LinearRegression().fit(X1_train, y1_train)\n",
    "lr_model2 = LinearRegression().fit(X2_train, y2_train)\n",
    "lr_model3 = LinearRegression().fit(X3_train, y3_train)\n",
    "lr_model4 = LinearRegression().fit(X4_train, y4_train)\n",
    "\n",
    "# Predictions\n",
    "\n",
    "y_pred_train1 = lr_model1.predict(X1_train)\n",
    "y_pred_test1 = lr_model1.predict(X1_test)\n",
    "\n",
    "y_pred_train2 = lr_model2.predict(X2_train)\n",
    "y_pred_test2 = lr_model2.predict(X2_test)\n",
    "\n",
    "# TODO: repeat for case 3 and 4 .... \n",
    "y_pred_train3 = lr_model3.predict(X3_train)\n",
    "y_pred_test3 = lr_model3.predict(X3_test)\n",
    "\n",
    "y_pred_train4 = lr_model4.predict(X4_train)\n",
    "y_pred_test4 = lr_model4.predict(X4_test)\n",
    "\n"
   ]
  },
  {
   "cell_type": "markdown",
   "id": "c9d38dbf",
   "metadata": {},
   "source": [
    "4.3 Report Performance"
   ]
  },
  {
   "cell_type": "code",
   "execution_count": 21,
   "id": "6cd09181",
   "metadata": {},
   "outputs": [
    {
     "name": "stdout",
     "output_type": "stream",
     "text": [
      "Case 1: Training R²: 0.009950688019452314\n",
      "Case 1: Test R²: 0.0034163395508415295\n",
      "Case 1: Test RMSE: 37.97164180172938\n",
      "Case 1: Test MAE: 25.28637293162364\n",
      "Case 2: Training R²: 0.049915792364760736\n",
      "Case 2: Test R²: 0.022231186110131973\n",
      "Case 2: Test RMSE: 37.6114940041967\n",
      "Case 2: Test MAE: 25.02534815941641\n",
      "Case 3: Training R²: 0.07347466201590014\n",
      "Case 3: Test R²: 0.049784832763073106\n",
      "Case 3: Test RMSE: 37.0777586646559\n",
      "Case 3: Test MAE: 24.284935030470688\n",
      "Case 4: Training R²: 0.023885614755059348\n",
      "Case 4: Test R²: 0.09936584220882583\n",
      "Case 4: Test RMSE: 36.09746477477291\n",
      "Case 4: Test MAE: 24.24249103567552\n"
     ]
    }
   ],
   "source": [
    "print(\"Case 1: Training R²:\", r2_score(y1_train, y_pred_train1))\n",
    "print(\"Case 1: Test R²:\", r2_score(y1_test, y_pred_test1))\n",
    "print(\"Case 1: Test RMSE:\", np.sqrt(mean_squared_error(y1_test, y_pred_test1)))\n",
    "print(\"Case 1: Test MAE:\", mean_absolute_error(y1_test, y_pred_test1))\n",
    "\n",
    "# TODO: Repeat for Cases 2-4....\n",
    "print(\"Case 2: Training R²:\", r2_score(y2_train, y_pred_train2))\n",
    "print(\"Case 2: Test R²:\", r2_score(y2_test, y_pred_test2))\n",
    "print(\"Case 2: Test RMSE:\", np.sqrt(mean_squared_error(y2_test, y_pred_test2)))\n",
    "print(\"Case 2: Test MAE:\", mean_absolute_error(y2_test, y_pred_test2))\n",
    "\n",
    "print(\"Case 3: Training R²:\", r2_score(y3_train, y_pred_train3))\n",
    "print(\"Case 3: Test R²:\", r2_score(y3_test, y_pred_test3))\n",
    "print(\"Case 3: Test RMSE:\", np.sqrt(mean_squared_error(y3_test, y_pred_test3)))\n",
    "print(\"Case 3: Test MAE:\", mean_absolute_error(y3_test, y_pred_test3))\n",
    "\n",
    "print(\"Case 4: Training R²:\", r2_score(y4_train, y_pred_train4))\n",
    "print(\"Case 4: Test R²:\", r2_score(y4_test, y_pred_test4))\n",
    "print(\"Case 4: Test RMSE:\", np.sqrt(mean_squared_error(y4_test, y_pred_test4)))\n",
    "print(\"Case 4: Test MAE:\", mean_absolute_error(y4_test, y_pred_test4))"
   ]
  },
  {
   "cell_type": "markdown",
   "id": "5038ea25",
   "metadata": {},
   "source": [
    "Section 4 Reflection Questions - answer these in your notebook (in a Markdown cell):  \n",
    "\n",
    "Compare the train vs test results for each.  \n",
    "\n",
    "Did Case 1 overfit or underfit? Explain:  \n",
    "Underfit, because R2 is low for both train & test.  \n",
    "\n",
    "Did Case 2 overfit or underfit? Explain:  \n",
    "Underfit, because R2 is low for both train & test.  \n",
    "\n",
    "Did Case 3 overfit or underfit? Explain:  \n",
    "Underfit, because R2 is low for both train & test.  \n",
    "\n",
    "Did Case 4 overfit or underfit? Explain:  \n",
    "Underfit, because R2 is low for both train & test.  \n",
    "\n",
    "Adding Age\n",
    "\n",
    "Did adding age improve the model:  \n",
    "No, because the performance was equally as low as the other cases.  \n",
    "\n",
    "Propose a possible explanation (consider how age might affect ticket price, and whether the data supports that):  \n",
    "Age might affect ticket price today, however children fares may not have been cheaper during the time period of the Titanic.  \n",
    "\n",
    "Worst\n",
    "\n",
    "Which case performed the worst:  \n",
    "Case 1  \n",
    "\n",
    "How do you know:  \n",
    " It had low R squared, in addition to highest RMSE. \n",
    "\n",
    "Do you think adding more training data would improve it (and why/why not): \n",
    "Yes, because it has a low R2 score,  \n",
    "\n",
    "Best\n",
    "\n",
    "Which case performed the best:  \n",
    "Case 4  \n",
    "  \n",
    "How do you know:  \n",
    "Case 4 had the highest test R2, and the best MAE.  \n",
    "\n",
    "Do you think adding more training data would improve it (and why/why not):  \n",
    "Yes, because although it is the best case, it still has a low R2 score."
   ]
  },
  {
   "cell_type": "markdown",
   "id": "85f195e6",
   "metadata": {},
   "source": [
    "### Section 5 Compare Alternative Models"
   ]
  },
  {
   "cell_type": "markdown",
   "id": "0d3924f4",
   "metadata": {},
   "source": [
    "In this section, we will take the best-performing case and explore other regression models."
   ]
  },
  {
   "cell_type": "markdown",
   "id": "5e061f8e",
   "metadata": {},
   "source": [
    "Choose Best Case to Continue  \n",
    "  \n",
    "Choose the best case model from the four cases.  Use that model to continue to explore additional continuous prediction models.  The following assumes that Case 1 was the best predictor - this may not be the best case.  Adjust the code to use your best case model instead."
   ]
  },
  {
   "cell_type": "markdown",
   "id": "711ee7bb",
   "metadata": {},
   "source": [
    "Choosing Options  \n",
    "  \n",
    "When working with regression models, especially those with multiple input features, we may run into overfitting — where a model fits the training data too closely and performs poorly on new data. To prevent this, we can apply regularization.  \n",
    "  \n",
    "Regularization adds a penalty to the model’s loss function, discouraging it from using very large weights (coefficients). This makes the model simpler and more likely to generalize well to new data.  \n",
    "  \n",
    "In general:  \n",
    "  \n",
    "* If the basic linear regression is overfitting, try Ridge.\n",
    "\n",
    "* If you want the model to automatically select the most important features, try Lasso.\n",
    "\n",
    "* If you want a balanced approach, try Elastic Net."
   ]
  },
  {
   "cell_type": "markdown",
   "id": "da28c422",
   "metadata": {},
   "source": [
    "5.1 Ridge Regression (L2 penalty)  \n",
    "  \n",
    "Ridge Regression is a regularized version of linear regression that adds a penalty to large coefficient values. It uses the L2 penalty, which adds the sum of squared coefficients to the loss function.  This \"shrinks\" the coefficients, reducing the model’s sensitivity to any one feature while still keeping all features in the model.  \n",
    "  \n",
    "* Penalty term: L2 = sum of squared weights\n",
    "* Effect: Shrinks weights, helps reduce overfitting, keeps all features"
   ]
  },
  {
   "cell_type": "markdown",
   "id": "d6b71a53",
   "metadata": {},
   "source": [
    "Note:  Case 4 (Sex vs fare) was deemed the best; however, as it is not continuous, Case 1 will be utilized."
   ]
  },
  {
   "cell_type": "code",
   "execution_count": 12,
   "id": "102f77b7",
   "metadata": {},
   "outputs": [],
   "source": [
    "ridge_model = Ridge(alpha=1.0)\n",
    "ridge_model.fit(X1_train, y1_train)\n",
    "y_pred_ridge = ridge_model.predict(X1_test)\n"
   ]
  },
  {
   "cell_type": "markdown",
   "id": "03d84f7f",
   "metadata": {},
   "source": [
    "5.2 Elastic Net (L1 + L2 combined)  \n",
    "  \n",
    "Lasso Regression uses the L1 penalty, which adds the sum of absolute values of the coefficients to the loss function. Lasso can shrink some coefficients all the way to zero, effectively removing less important features. This makes it useful for feature selection.  \n",
    "  \n",
    "* Penalty term: L1 = sum of absolute values of weights\n",
    "* Effect: Can shrink some weights to zero (drops features), simplifies the model  \n",
    "  \n",
    "Elastic Net combines both L1 (Lasso) and L2 (Ridge) penalties. It balances the feature selection ability of Lasso with the stability of Ridge.  \n",
    "  \n",
    "We control the balance with a parameter called l1_ratio:  \n",
    "  \n",
    "* If l1_ratio = 0, it behaves like Ridge\n",
    "* If l1_ratio = 1, it behaves like Lasso\n",
    "* Values in between mix both types\n",
    "* Penalty term: α × (L1 + L2)\n",
    "* Effect: Shrinks weights and can drop some features — flexible and powerful"
   ]
  },
  {
   "cell_type": "code",
   "execution_count": 13,
   "id": "509d690f",
   "metadata": {},
   "outputs": [],
   "source": [
    "elastic_model = ElasticNet(alpha=0.3, l1_ratio=0.5)\n",
    "elastic_model.fit(X1_train, y1_train)\n",
    "y_pred_elastic = elastic_model.predict(X1_test)\n"
   ]
  },
  {
   "cell_type": "markdown",
   "id": "d4ab100a",
   "metadata": {},
   "source": [
    "5.3 Polynomial Regression  \n",
    "  \n",
    "Linear regression is a simple two dimensional relationship - a simple straight line. But we can test more complex relationships. Polynomial regression adds interaction and nonlinear terms to the model. Be careful here - higher-degree polynomials can easily overfit."
   ]
  },
  {
   "cell_type": "code",
   "execution_count": 14,
   "id": "44857683",
   "metadata": {},
   "outputs": [],
   "source": [
    "# Set up the poly inputs\n",
    "poly = PolynomialFeatures(degree=3)\n",
    "X_train_poly = poly.fit_transform(X1_train)\n",
    "X_test_poly = poly.transform(X1_test)\n"
   ]
  },
  {
   "cell_type": "code",
   "execution_count": 15,
   "id": "a04af97f",
   "metadata": {},
   "outputs": [],
   "source": [
    "# Use the poly inputs in the LR model\n",
    "poly_model = LinearRegression()\n",
    "poly_model.fit(X_train_poly, y1_train)\n",
    "y_pred_poly = poly_model.predict(X_test_poly)\n"
   ]
  },
  {
   "cell_type": "markdown",
   "id": "3568faaf",
   "metadata": {},
   "source": [
    "5.4 Visualize Polynomial Cubic Fit (for 1 input feature)  \n",
    "  \n",
    "Choose a case with just one input feature and plot it.  For example:"
   ]
  },
  {
   "cell_type": "code",
   "execution_count": 16,
   "id": "bd4f6382",
   "metadata": {},
   "outputs": [
    {
     "data": {
      "image/png": "[encoded data removed]",
      "text/plain": [
       "<Figure size 640x480 with 1 Axes>"
      ]
     },
     "metadata": {},
     "output_type": "display_data"
    }
   ],
   "source": [
    "plt.scatter(X1_test, y1_test, color='blue', label='Actual')\n",
    "plt.scatter(X1_test, y_pred_poly, color='red', label='Predicted (Poly)')\n",
    "plt.legend()\n",
    "plt.title(\"Polynomial Regression: Age vs Fare\")\n",
    "plt.show()\n"
   ]
  },
  {
   "cell_type": "markdown",
   "id": "1ff27ab4",
   "metadata": {},
   "source": [
    "5.4 Reflections:  \n",
    "  \n",
    "1. What patterns does the cubic model seem to capture:  \n",
    "   The model captures the upward tend in fare as age increases.  \n",
    "\n",
    "2. Where does it perform well or poorly:  \n",
    "   It performs better where there are more data points. \n",
    "\n",
    "3. Did the polynomial fit outperform linear regression:  \n",
    "4. Yes, it appears so.\n",
    "    \n",
    "5. Where (on the graph or among which kinds of data points) does it fit best:  \n",
    "   It fits best where ther are mor data points; i.e., age 20 - 50  \n",
    "   "
   ]
  },
  {
   "cell_type": "markdown",
   "id": "00edde55",
   "metadata": {},
   "source": [
    "5.5 Compare All Models  \n",
    "  \n",
    "Create a summary table or printout, comparing all models:"
   ]
  },
  {
   "cell_type": "code",
   "execution_count": 27,
   "id": "cda9bf8c",
   "metadata": {},
   "outputs": [
    {
     "name": "stdout",
     "output_type": "stream",
     "text": [
      "Linear R²: 0.099\n",
      "Linear RMSE: 36.10\n",
      "Linear MAE: 24.24\n",
      "\n",
      "Ridge R²: 0.099\n",
      "Ridge RMSE: 36.10\n",
      "Ridge MAE: 24.24\n",
      "\n",
      "ElasticNet R²: 0.068\n",
      "ElasticNet RMSE: 36.71\n",
      "ElasticNet MAE: 24.33\n",
      "\n",
      "Polynomial R²: 0.099\n",
      "Polynomial RMSE: 36.10\n",
      "Polynomial MAE: 24.24\n",
      "\n"
     ]
    }
   ],
   "source": [
    "def report(name, y_true, y_pred):\n",
    "    print(f\"{name} R²: {r2_score(y_true, y_pred):.3f}\")\n",
    "    print(f\"{name} RMSE: {np.sqrt(mean_squared_error(y_true, y_pred)):.2f}\")\n",
    "    print(f\"{name} MAE: {mean_absolute_error(y_true, y_pred):.2f}\\n\")\n",
    "\n",
    "report(\"Linear\", y4_test, y_pred_test4)\n",
    "report(\"Ridge\", y4_test, y_pred_ridge)\n",
    "report(\"ElasticNet\", y4_test, y_pred_elastic)\n",
    "report(\"Polynomial\", y4_test, y_pred_poly)\n",
    "\n"
   ]
  },
  {
   "cell_type": "markdown",
   "id": "53308d13",
   "metadata": {},
   "source": [
    "5.5 Visualize Higher Order Polynomial (for the same 1 input case)  \n",
    "  \n",
    "Use the same single input case as you visualized above, but use a higher degree polynomial (e.g., 4, 5, 6, 7, or 8).  Plot the results.  \n",
    "  \n"
   ]
  },
  {
   "cell_type": "code",
   "execution_count": 17,
   "id": "6ab924f9",
   "metadata": {},
   "outputs": [],
   "source": [
    "# Set up the poly inputs\n",
    "poly = PolynomialFeatures(degree=6)\n",
    "X_train_poly = poly.fit_transform(X1_train)\n",
    "X_test_poly = poly.transform(X1_test)"
   ]
  },
  {
   "cell_type": "code",
   "execution_count": 18,
   "id": "c1f35239",
   "metadata": {},
   "outputs": [],
   "source": [
    "# Use the poly inputs in the LR model\n",
    "poly_model = LinearRegression()\n",
    "poly_model.fit(X_train_poly, y1_train)\n",
    "y_pred_poly = poly_model.predict(X_test_poly)\n"
   ]
  },
  {
   "cell_type": "code",
   "execution_count": 19,
   "id": "1a91482e",
   "metadata": {},
   "outputs": [
    {
     "data": {
      "image/png": "[encoded data removed]",
      "text/plain": [
       "<Figure size 640x480 with 1 Axes>"
      ]
     },
     "metadata": {},
     "output_type": "display_data"
    }
   ],
   "source": [
    "plt.scatter(X1_test, y1_test, color='blue', label='Actual')\n",
    "plt.scatter(X1_test, y_pred_poly, color='red', label='Predicted (Poly)')\n",
    "plt.legend()\n",
    "plt.title(\"Polynomial Regression: Sex vs Fare\")\n",
    "plt.show()\n"
   ]
  },
  {
   "cell_type": "markdown",
   "id": "2ab6fa92",
   "metadata": {},
   "source": [
    "In a markdown cell, tell us which option seems to work better - your initial cubic (3) or your higher order, and why.  \n",
    "Both plots appear to be similar."
   ]
  },
  {
   "cell_type": "markdown",
   "id": "3870f624",
   "metadata": {},
   "source": [
    "### Section 6. Final Thoughts & Insights  \n",
    "  \n",
    "Your notebook should tell a data story.  Use this section to demonstrate your thinking and values as an analyst."
   ]
  },
  {
   "cell_type": "markdown",
   "id": "e1092026",
   "metadata": {},
   "source": [
    "6.1 Summarize Findings  \n",
    "  \n",
    "1. What features were most useful?  \n",
    "   None of the features had a high R2 so they were equal usefulness. \n",
    "   \n",
    "2. What regression model performed best?  \n",
    "   Polynomial performed better than linear. \n",
    "   \n",
    "3. How did model complexity or regularization affect results?  \n",
    "   It did not affect the results, as the 2 different degrees yielded similar graphs."
   ]
  },
  {
   "cell_type": "markdown",
   "id": "05f9ff14",
   "metadata": {},
   "source": [
    "6.2 Discuss Challenges  \n",
    "  \n",
    "1. Was fare hard to predict? Why?  \n",
    "   Fare is hard to predict because none of the features are good indicators.   \n",
    "   \n",
    "2. Did skew or outliers impact the models?  \n",
    "   Outliers did impact."
   ]
  }
 ],
 "metadata": {
  "kernelspec": {
   "display_name": ".venv",
   "language": "python",
   "name": "python3"
  },
  "language_info": {
   "codemirror_mode": {
    "name": "ipython",
    "version": 3
   },
   "file_extension": ".py",
   "mimetype": "text/x-python",
   "name": "python",
   "nbconvert_exporter": "python",
   "pygments_lexer": "ipython3",
   "version": "3.13.1"
  }
 },
 "nbformat": 4,
 "nbformat_minor": 5
}
